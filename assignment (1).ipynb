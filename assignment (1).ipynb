{
 "cells": [
  {
   "cell_type": "code",
   "execution_count": 49,
   "id": "1eedea86-748e-4f0f-91a3-62559fec3dd1",
   "metadata": {},
   "outputs": [],
   "source": [
    "#Practical Questions\n",
    "#1\n",
    "with open(\"example.txt\",\"w\") as file:\n",
    "    file.write(\"hello,this my first line\")"
   ]
  },
  {
   "cell_type": "code",
   "execution_count": 5,
   "id": "d58d4aee-1891-4d74-a3db-43e13d062150",
   "metadata": {},
   "outputs": [
    {
     "name": "stdout",
     "output_type": "stream",
     "text": [
      "hello,this my first line\n"
     ]
    }
   ],
   "source": [
    "#2\n",
    "with open(\"example.txt\",\"r\") as file:\n",
    "    for line in file:\n",
    "        print(line.strip())"
   ]
  },
  {
   "cell_type": "code",
   "execution_count": 11,
   "id": "22de888e-a12d-4711-9483-c3be5203d1d1",
   "metadata": {},
   "outputs": [
    {
     "name": "stdout",
     "output_type": "stream",
     "text": [
      "error: the file'nonexistent_file.txt' does not exist\n"
     ]
    }
   ],
   "source": [
    "#3\n",
    "filename =  \"nonexistent_file.txt\"\n",
    "try:\n",
    "    with open(filename,\"r\")as file:\n",
    "        for line in file:\n",
    "          print(line.strip())\n",
    "\n",
    "except FileNotFoundError:\n",
    "    print(f\"error: the file'{filename}' does not exist\")\n",
    "    "
   ]
  },
  {
   "cell_type": "code",
   "execution_count": 13,
   "id": "3f487bb9-6b1c-49e9-b721-35c8fd8ad81b",
   "metadata": {},
   "outputs": [
    {
     "name": "stdout",
     "output_type": "stream",
     "text": [
      "Content copied from 'example.txt' to 'copied_example.txt' successfully.\n"
     ]
    }
   ],
   "source": [
    "#4\n",
    "source_file = \"example.txt\"\n",
    "destination_file = \"copied_example.txt\"\n",
    "\n",
    "try:\n",
    "    with open(source_file, \"r\") as src:\n",
    "        content = src.read()\n",
    "\n",
    "    with open(destination_file, \"w\") as dest:\n",
    "        dest.write(content)\n",
    "\n",
    "    print(f\"Content copied from '{source_file}' to '{destination_file}' successfully.\")\n",
    "\n",
    "except FileNotFoundError:\n",
    "    print(f\"Error: The file '{source_file}' does not exist.\")\n",
    "except IOError as e:\n",
    "    print(f\"An I/O error occurred: {e}\")"
   ]
  },
  {
   "cell_type": "code",
   "execution_count": 14,
   "id": "e05884b5-bde5-4f6e-9f54-0bcfe054ec69",
   "metadata": {},
   "outputs": [
    {
     "name": "stdout",
     "output_type": "stream",
     "text": [
      "Error: Division by zero is not allowed.\n"
     ]
    }
   ],
   "source": [
    "#5\n",
    "try:\n",
    "    numerator = 10\n",
    "    denominator = 0\n",
    "    result = numerator / denominator\n",
    "    print(\"Result:\", result)\n",
    "except ZeroDivisionError:\n",
    "    print(\"Error: Division by zero is not allowed.\")"
   ]
  },
  {
   "cell_type": "code",
   "execution_count": 18,
   "id": "4ad5c475-2f31-41b3-ab43-6f396935fbd0",
   "metadata": {},
   "outputs": [
    {
     "name": "stdout",
     "output_type": "stream",
     "text": [
      "error: cannot divide by zero\n"
     ]
    }
   ],
   "source": [
    "#6\n",
    "import logging\n",
    "logging.basicConfig(filename='error_log.txt',\n",
    "                    level=logging.ERROR,\n",
    "format='%(asctime)s  %(levelname)s - %(message)s')\n",
    "\n",
    "try:\n",
    "    a= 30\n",
    "    b = 0\n",
    "    result = a/b\n",
    "    print(\"result:\",result)\n",
    "\n",
    "except ZeroDivisionError as e:\n",
    "    print(\"error: cannot divide by zero\")\n",
    "    logging.error(\"division by zero occured: %s\", e)\n",
    "\n"
   ]
  },
  {
   "cell_type": "code",
   "execution_count": 22,
   "id": "bf2d76d4-4c1c-45ba-9e23-84cf7f656c26",
   "metadata": {},
   "outputs": [],
   "source": [
    "#7\n",
    "import logging\n",
    "\n",
    "logging.basicConfig(filename='app_log.txt',\n",
    "                    level=logging.DEBUG,\n",
    "                    format='%(asctime)s - %(levelname)s - %(message)s')\n",
    "\n",
    "logging.debug(\"This is a DEBUG message.\")\n",
    "logging.info(\"This is an INFO message.\")\n",
    "logging.warning(\"This is a WARNING message.\")\n",
    "logging.error(\"This is an ERROR message.\")\n"
   ]
  },
  {
   "cell_type": "code",
   "execution_count": 23,
   "id": "e2295641-74e3-4f03-aed8-0d5c9bea209c",
   "metadata": {},
   "outputs": [
    {
     "name": "stdout",
     "output_type": "stream",
     "text": [
      "Error: The file 'myfile.txt' was not found.\n"
     ]
    }
   ],
   "source": [
    "#8\n",
    "filename = \"myfile.txt\"\n",
    "\n",
    "try:\n",
    "    with open(filename, \"r\") as file:\n",
    "        content = file.read()\n",
    "        print(\"File content:\")\n",
    "        print(content)\n",
    "\n",
    "except FileNotFoundError:\n",
    "    print(f\"Error: The file '{filename}' was not found.\")"
   ]
  },
  {
   "cell_type": "code",
   "execution_count": 24,
   "id": "31d20452-a9ee-4322-8bd4-3524e6570468",
   "metadata": {},
   "outputs": [
    {
     "name": "stdout",
     "output_type": "stream",
     "text": [
      "hello,this my first line\n"
     ]
    }
   ],
   "source": [
    "#9\n",
    "with open(\"example.txt\",\"r\") as file:\n",
    "    lines = file.readline()\n",
    "    print(lines)"
   ]
  },
  {
   "cell_type": "code",
   "execution_count": 26,
   "id": "235663b9-e6b7-4597-9fdf-dddf2a85e06a",
   "metadata": {},
   "outputs": [],
   "source": [
    "#10\n",
    "with open(\"example.txt\",\"a\") as file:\n",
    "    file.write(\"this line to be added to the end of te file./n\")"
   ]
  },
  {
   "cell_type": "code",
   "execution_count": 29,
   "id": "bffe93ea-50a9-4fd3-9c03-5b88b4f75c33",
   "metadata": {},
   "outputs": [
    {
     "name": "stdout",
     "output_type": "stream",
     "text": [
      "error: the key 'city' does not exist\n"
     ]
    }
   ],
   "source": [
    "#11\n",
    "person = {\n",
    "    \"name\":\"twisha\",\n",
    "    \"age\":16\n",
    "}\n",
    "try:\n",
    "    print(\"city:\", person[\"city\"])\n",
    "except KeyError:\n",
    "    print(\"error: the key 'city' does not exist\")"
   ]
  },
  {
   "cell_type": "code",
   "execution_count": 31,
   "id": "92ac042a-f6c3-4f5a-b279-876bffcfbf67",
   "metadata": {},
   "outputs": [
    {
     "name": "stdin",
     "output_type": "stream",
     "text": [
      "Enter a number:  0\n"
     ]
    },
    {
     "name": "stdout",
     "output_type": "stream",
     "text": [
      "Error: Cannot divide by zero.\n"
     ]
    }
   ],
   "source": [
    "#12\n",
    "try:\n",
    "    num = int(input(\"Enter a number: \"))\n",
    "    result = 10 / num\n",
    "    data = {\"name\": \"Twisha\"}\n",
    "    print(\"City:\", data[\"city\"])\n",
    "\n",
    "except ZeroDivisionError:\n",
    "    print(\"Error: Cannot divide by zero.\")\n",
    "\n",
    "except ValueError:\n",
    "    print(\"Error: Invalid input. Please enter a number.\")\n",
    "\n",
    "except KeyError:\n",
    "    print(\"Error: The key you're trying to access does not exist.\")\n",
    "\n",
    "except Exception as e:\n",
    "    print(f\"Unexpected error: {e}\")"
   ]
  },
  {
   "cell_type": "code",
   "execution_count": 33,
   "id": "2ece5672-0d54-4e08-a238-526fbc6b468c",
   "metadata": {},
   "outputs": [
    {
     "name": "stdout",
     "output_type": "stream",
     "text": [
      "hello,this my first linethis line to be added to the end of te file./n\n"
     ]
    }
   ],
   "source": [
    "#13\n",
    "import os\n",
    "filename =  \"example.txt\"\n",
    "if os.path.exists(filename):\n",
    "    with open(filename, \"r\") as file:\n",
    "        content = file.read()\n",
    "        print(content)\n",
    "else:\n",
    "    print(\"error: the file'{filename}' does not exis\")\n",
    "\n",
    "    "
   ]
  },
  {
   "cell_type": "code",
   "execution_count": 34,
   "id": "82c6ccff-690a-4b6d-aabe-0995226f4f97",
   "metadata": {},
   "outputs": [],
   "source": [
    "#14\n",
    "import logging\n",
    "\n",
    "logging.basicConfig(filename='program_log.txt',\n",
    "                    level=logging.DEBUG,\n",
    "                    format='%(asctime)s - %(levelname)s - %(message)s')\n",
    "\n",
    "logging.info(\"Program started successfully.\")\n",
    "\n",
    "try:\n",
    "    a = 10\n",
    "    b = 0\n",
    "    result = a / b\n",
    "\n",
    "except ZeroDivisionError as e:\n",
    "    logging.error(\"Error occurred: Division by zero.\")\n",
    "else:\n",
    "    logging.info(\"Calculation completed successfully. Result: %s\", result)\n",
    "\n",
    "logging.info(\"Program ended.\")"
   ]
  },
  {
   "cell_type": "code",
   "execution_count": 35,
   "id": "4fb8584c-9845-4eb5-afd2-ba87d24bc728",
   "metadata": {},
   "outputs": [
    {
     "name": "stdout",
     "output_type": "stream",
     "text": [
      "File content:\n",
      "hello,this my first linethis line to be added to the end of te file./n\n"
     ]
    }
   ],
   "source": [
    "#15\n",
    "filename = \"example.txt\"\n",
    "\n",
    "try:\n",
    "    with open(filename, \"r\") as file:\n",
    "        content = file.read()\n",
    "        if not content.strip():\n",
    "            print(\"The file is empty.\")\n",
    "        else:\n",
    "            print(\"File content:\")\n",
    "            print(content)\n",
    "except FileNotFoundError:\n",
    "    print(f\"Error: The file '{filename}' was not found.\")\n",
    "except IOError:\n",
    "    print(\"An error occurred while reading the file.\")"
   ]
  },
  {
   "cell_type": "code",
   "execution_count": 37,
   "id": "80d85a91-2b68-476b-b8d3-b4d5ce15ab75",
   "metadata": {},
   "outputs": [
    {
     "name": "stderr",
     "output_type": "stream",
     "text": [
      "  WARNING: The script mprof.exe is installed in 'C:\\Users\\Ramesh\\AppData\\Local\\Packages\\PythonSoftwareFoundation.Python.3.13_qbz5n2kfra8p0\\LocalCache\\local-packages\\Python313\\Scripts' which is not on PATH.\n",
      "  Consider adding this directory to PATH or, if you prefer to suppress this warning, use --no-warn-script-location.\n",
      "\n",
      "[notice] A new release of pip is available: 25.1.1 -> 25.2\n",
      "[notice] To update, run: C:\\Users\\Ramesh\\AppData\\Local\\Microsoft\\WindowsApps\\PythonSoftwareFoundation.Python.3.13_qbz5n2kfra8p0\\python.exe -m pip install --upgrade pip\n"
     ]
    },
    {
     "name": "stdout",
     "output_type": "stream",
     "text": [
      "Memory used: 41.39 MiB\n"
     ]
    }
   ],
   "source": [
    "#16\n",
    "!pip install -q memory-profiler\n",
    "from memory_profiler import memory_usage\n",
    "\n",
    "def smart_function():\n",
    "    data = [i ** 2 for i in range(1000000)]\n",
    "    return sum(data)\n",
    "\n",
    "mem_usage = memory_usage(smart_function)\n",
    "print(f\"Memory used: {max(mem_usage) - min(mem_usage):.2f} MiB\")"
   ]
  },
  {
   "cell_type": "code",
   "execution_count": 38,
   "id": "f4cceee9-effd-4067-b306-284ac9545d8b",
   "metadata": {},
   "outputs": [],
   "source": [
    "#17\n",
    "numbers = [10,20,30,40]\n",
    "with open(\"numbers.txt\",\"w\") as file:\n",
    "    for num in numbers:\n",
    "        file.write(str(num) + \"\\n\")"
   ]
  },
  {
   "cell_type": "code",
   "execution_count": null,
   "id": "4959fd65-68a1-439b-ac33-ad62e3e8fe5e",
   "metadata": {},
   "outputs": [],
   "source": [
    "#18 doubt"
   ]
  },
  {
   "cell_type": "code",
   "execution_count": 39,
   "id": "bf9d477a-f698-4180-afcc-645c6e4b9602",
   "metadata": {},
   "outputs": [
    {
     "name": "stdout",
     "output_type": "stream",
     "text": [
      "Index Error: List index is out of range.\n"
     ]
    }
   ],
   "source": [
    "#19\n",
    "data_list = [1, 2, 3]\n",
    "data_dict = {\"name\": \"Twisha\"}\n",
    "\n",
    "try:\n",
    "    print(data_list[5])\n",
    "    print(data_dict[\"age\"])\n",
    "except IndexError:\n",
    "    print(\"Index Error: List index is out of range.\")\n",
    "except KeyError:\n",
    "    print(\"Key Error: Key does not exist in the dictionary.\")"
   ]
  },
  {
   "cell_type": "code",
   "execution_count": 41,
   "id": "e5bfba80-24a0-4986-a7de-4190d9233492",
   "metadata": {},
   "outputs": [
    {
     "name": "stdout",
     "output_type": "stream",
     "text": [
      "hello,this my first linethis line to be added to the end of te file./n\n"
     ]
    }
   ],
   "source": [
    "#20\n",
    "filename = \"example.txt\"\n",
    "with open(filename,\"r\") as file:\n",
    "    content = file.read()\n",
    "    print(content)\n"
   ]
  },
  {
   "cell_type": "code",
   "execution_count": 44,
   "id": "87822875-2b02-4fbb-b9c2-3b854bfdb38a",
   "metadata": {},
   "outputs": [
    {
     "name": "stdout",
     "output_type": "stream",
     "text": [
      "The word 'to' occurred 2 times in the file.\n"
     ]
    }
   ],
   "source": [
    "#21\n",
    "filename = \"example.txt\"\n",
    "word_to_find = \"to\"\n",
    "\n",
    "try:\n",
    "    with open(filename, \"r\") as file:\n",
    "        content = file.read()\n",
    "        words = content.lower().split()\n",
    "        count = words.count(word_to_find.lower())\n",
    "        print(f\"The word '{word_to_find}' occurred {count} times in the file.\")\n",
    "except FileNotFoundError:\n",
    "    print(f\"Error: The file '{filename}' was not found.\")\n",
    "except IOError:\n",
    "    print(\"An error occurred while reading the file.\")"
   ]
  },
  {
   "cell_type": "code",
   "execution_count": 45,
   "id": "914cf3bb-792b-4f18-8926-9a12e77a5527",
   "metadata": {},
   "outputs": [
    {
     "name": "stdout",
     "output_type": "stream",
     "text": [
      "File content:\n",
      "hello,this my first linethis line to be added to the end of te file./n\n"
     ]
    }
   ],
   "source": [
    "#22\n",
    "import os\n",
    "\n",
    "filename = \"example.txt\"\n",
    "\n",
    "if os.path.exists(filename) and os.path.getsize(filename) > 0:\n",
    "    with open(filename, \"r\") as file:\n",
    "        content = file.read()\n",
    "        print(\"File content:\")\n",
    "        print(content)\n",
    "else:\n",
    "    print(\"The file is either empty or does not exist.\")"
   ]
  },
  {
   "cell_type": "code",
   "execution_count": 48,
   "id": "00ae59f9-3f03-42ad-995e-46f775a3c2f8",
   "metadata": {},
   "outputs": [
    {
     "name": "stdout",
     "output_type": "stream",
     "text": [
      "An error occurred while handling the file. Check the log file.\n"
     ]
    }
   ],
   "source": [
    "#23\n",
    "import logging\n",
    "\n",
    "logging.basicConfig(filename='file_log.txt',\n",
    "                    level=logging.ERROR,\n",
    "                    format='%(asctime)s - %(levelname)s - %(message)s')\n",
    "\n",
    "filename = \"blahblah.txt\"\n",
    "\n",
    "try:\n",
    "    with open(filename, \"r\") as file:\n",
    "        content = file.read()\n",
    "        print(content)\n",
    "except Exception as e:\n",
    "    logging.error(f\"File handling error: {e}\")\n",
    "    print(\"An error occurred while handling the file. Check the log file.\")"
   ]
  },
  {
   "cell_type": "code",
   "execution_count": 50,
   "id": "79ecb4f3-3197-4608-88b2-09ecf1daaf6e",
   "metadata": {},
   "outputs": [],
   "source": [
    "#Files, exceptional handling, logging and memory management Questions\n",
    " #1 The difference between interpreted and compiled languages is that interpreted languages execute code line-by-line, while compiled languages translate code into machine code before execution.\n",
    "\n",
    "#2 Exception handling in Python allows handling runtime errors using try-except blocks to prevent crashes.\n",
    "\n",
    "#3 The `finally` block in Python is executed regardless of whether an exception occurs, often used for cleanup actions like closing files.\n",
    "\n",
    "#4 Logging in Python captures runtime information and errors for debugging and monitoring purposes.\n",
    "\n",
    "#5 The `__del__` method is a destructor that is called when an object is deleted or garbage collected.\n",
    "\n",
    "#6 The difference between `import` and `from ... import ...` is that `import` brings in the entire module, while `from ... import ...` imports specific attributes or functions.\n",
    "\n",
    "#7 To handle multiple exceptions in Python, use multiple `except` blocks or a single block with a tuple of exceptions.\n",
    "\n",
    "#8 The `with` statement ensures proper resource management, such as closing files automatically.\n",
    "\n",
    "#9 Multithreading allows concurrent execution within a single process, while multiprocessing creates separate processes with independent memory spaces.\n",
    "\n",
    "#10 The advantages of logging include error tracking, debugging, and performance monitoring.\n",
    "\n",
    "#11 Memory management in Python is handled by the garbage collector, which automatically deallocates unused memory.\n",
    "\n",
    "#12 Basic steps in exception handling include `try`, `except`, `else`, and `finally` blocks.\n",
    "\n",
    "#13 Memory management is crucial to prevent memory leaks and ensure efficient use of resources.\n",
    "\n",
    "#14 The `try-except` block handles exceptions, allowing the program to continue running after handling errors.\n",
    "\n",
    "#15 Python’s garbage collection system automatically identifies and frees unused objects to reclaim memory.\n",
    "\n",
    "#16 The `else` block in exception handling runs when no exception is raised in the `try` block.\n",
    "\n",
    "#17 Common logging levels in Python are DEBUG, INFO, WARNING, ERROR, and CRITICAL.\n",
    "\n",
    "#18 The difference between `fork()` and `exec()` is that `fork()` creates a new process, while `exec()` replaces the current process with a new one.\n",
    "\n",
    "#19 Closing files in Python is important to free system resources and avoid data corruption.\n",
    "\n",
    "#20 The difference between `read()`, `readline()`, and `readlines()` is that `read()` reads the entire file, `readline()` reads one line at a time, and `readlines()` reads all lines as a list.\n",
    "\n",
    "#21 The logging module in Python is used for recording diagnostic information and tracking errors.\n",
    "\n",
    "#22 The `multiprocessing` module supports spawning processes to run tasks in parallel.\n",
    "\n",
    "#23 The challenges associated with memory management in Python include handling circular references, managing memory for large data structures, and preventing memory leaks through efficient use of the garbage collector.\n",
    "\n",
    "#24 To manually raise an exception in Python, use the `raise` statement. For example: `raise ValueError(\"Invalid value\")`.\n",
    "\n",
    "#25 Multithreading is important in certain applications for tasks like handling I/O-bound operations, running background tasks, and improving responsiveness without blocking the main thread."
   ]
  },
  {
   "cell_type": "code",
   "execution_count": null,
   "id": "f1224d6b-e287-41db-a2e2-3247266312f7",
   "metadata": {},
   "outputs": [],
   "source": []
  }
 ],
 "metadata": {
  "kernelspec": {
   "display_name": "Python 3 (ipykernel)",
   "language": "python",
   "name": "python3"
  },
  "language_info": {
   "codemirror_mode": {
    "name": "ipython",
    "version": 3
   },
   "file_extension": ".py",
   "mimetype": "text/x-python",
   "name": "python",
   "nbconvert_exporter": "python",
   "pygments_lexer": "ipython3",
   "version": "3.13.5"
  }
 },
 "nbformat": 4,
 "nbformat_minor": 5
}
