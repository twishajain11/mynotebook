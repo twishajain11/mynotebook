{
 "cells": [
  {
   "cell_type": "code",
   "execution_count": 9,
   "id": "a1f50e48-3e78-4295-87cb-39a3d5674b30",
   "metadata": {},
   "outputs": [
    {
     "name": "stdout",
     "output_type": "stream",
     "text": [
      "This animal makes a sound.\n",
      "Bark\n"
     ]
    }
   ],
   "source": [
    "#PRACTICAL QUESTIONS\n",
    "#1\n",
    "class Animal:\n",
    "    def Speak(self):\n",
    "        print(\"This animal makes a sound.\")\n",
    "\n",
    "class Dog(Animal):  \n",
    "    def Speak(self):\n",
    "        print(\"Bark\")\n",
    "\n",
    "a = Animal()\n",
    "a.Speak()\n",
    "\n",
    "d = Dog()\n",
    "d.Speak()"
   ]
  },
  {
   "cell_type": "code",
   "execution_count": 9,
   "id": "17626ffc-179e-4617-bffa-7f22cbb8bf77",
   "metadata": {},
   "outputs": [
    {
     "name": "stdout",
     "output_type": "stream",
     "text": [
      "This animal makes a sound.\n",
      "Bark\n"
     ]
    }
   ],
   "source": [
    "#PRACTICAL QUESTIONS\n",
    "#1\n",
    "class Animal:\n",
    "    def Speak(self):\n",
    "        print(\"This animal makes a sound.\")\n",
    "\n",
    "class Dog(Animal):  \n",
    "    def Speak(self):\n",
    "        print(\"Bark\")\n",
    "\n",
    "a = Animal()\n",
    "a.Speak()\n",
    "\n",
    "d = Dog()\n",
    "d.Speak()"
   ]
  },
  {
   "cell_type": "code",
   "execution_count": 11,
   "id": "84967e26-e1fe-4343-acd8-9c9a99c8dcff",
   "metadata": {},
   "outputs": [
    {
     "name": "stdout",
     "output_type": "stream",
     "text": [
      "Area of Circle: 50.27\n",
      "Area of Rectangle: 24\n"
     ]
    }
   ],
   "source": [
    "#2\n",
    "from abc import ABC, abstractmethod\n",
    "import math\n",
    "\n",
    "class Shape(ABC):\n",
    "    @abstractmethod\n",
    "    def area(self):\n",
    "        pass\n",
    "\n",
    "class Circle(Shape):\n",
    "    def __init__(self, radius):\n",
    "        self.radius = radius\n",
    "\n",
    "    def area(self):\n",
    "        return math.pi * self.radius ** 2\n",
    "\n",
    "class Rectangle(Shape):\n",
    "    def __init__(self, length, width):\n",
    "        self.length = length\n",
    "        self.width = width\n",
    "\n",
    "    def area(self):\n",
    "        return self.length * self.width\n",
    "\n",
    "c = Circle(4)\n",
    "print(\"Area of Circle:\", round(c.area(), 2))\n",
    "\n",
    "r = Rectangle(4, 6)\n",
    "print(\"Area of Rectangle:\", r.area())"
   ]
  },
  {
   "cell_type": "code",
   "execution_count": 10,
   "id": "a453933a-138b-4de4-9e35-7072846ac829",
   "metadata": {},
   "outputs": [
    {
     "name": "stdout",
     "output_type": "stream",
     "text": [
      "Vehicle Type: Four Wheeler\n",
      "Car Brand: Tesla\n",
      "Battery Capacity: 75 kWh\n"
     ]
    }
   ],
   "source": [
    "#3\n",
    "class Vehicle:\n",
    "    def __init__(self, vehicle_type):\n",
    "        self.type = vehicle_type\n",
    "\n",
    "    def show_type(self):\n",
    "        print(\"Vehicle Type:\", self.type)\n",
    "\n",
    "class Car(Vehicle):\n",
    "    def __init__(self, vehicle_type, brand):\n",
    "        super().__init__(vehicle_type)\n",
    "        self.brand = brand\n",
    "\n",
    "    def show_brand(self):\n",
    "        print(\"Car Brand:\", self.brand)\n",
    "\n",
    "class ElectricCar(Car):\n",
    "    def __init__(self, vehicle_type, brand, battery_capacity):\n",
    "        super().__init__(vehicle_type, brand)\n",
    "        self.battery = battery_capacity\n",
    "\n",
    "    def show_battery(self):\n",
    "        print(\"Battery Capacity:\", self.battery, \"kWh\")\n",
    "\n",
    "e_car = ElectricCar(\"Four Wheeler\", \"Tesla\", 75)\n",
    "e_car.show_type()\n",
    "e_car.show_brand()\n",
    "e_car.show_battery()"
   ]
  },
  {
   "cell_type": "code",
   "execution_count": 12,
   "id": "5f70d30d-fda7-40b0-b1a7-42522419e2f2",
   "metadata": {},
   "outputs": [
    {
     "name": "stdout",
     "output_type": "stream",
     "text": [
      "Sparrow flies high in the sky.\n",
      "Penguins cannot fly, they swim instead.\n"
     ]
    }
   ],
   "source": [
    "#4\n",
    "class Bird:\n",
    "    def fly(self):\n",
    "        print(\"Some birds can fly.\")\n",
    "class Sparrow(Bird):\n",
    "    def fly(self):\n",
    "        print(\"Sparrow flies high in the sky.\")\n",
    "class Penguin(Bird):\n",
    "    def fly(self):\n",
    "        print(\"Penguins cannot fly, they swim instead.\")\n",
    "\n",
    "birds = [Sparrow(), Penguin()]\n",
    "\n",
    "for bird in birds:\n",
    "    bird.fly()"
   ]
  },
  {
   "cell_type": "code",
   "execution_count": 14,
   "id": "28ec9ad5-afda-4439-960e-5ae20cc6de52",
   "metadata": {},
   "outputs": [
    {
     "name": "stdout",
     "output_type": "stream",
     "text": [
      "Current Balance: ₹1000\n",
      "Deposited ₹500\n",
      "Withdrew ₹300\n",
      "Current Balance: ₹1200\n"
     ]
    }
   ],
   "source": [
    "#5\n",
    "class BankAccount:\n",
    "    def __init__(self, initial_balance=0):\n",
    "        self.__balance = initial_balance  \n",
    "\n",
    "    def deposit(self, amount):\n",
    "        if amount > 0:\n",
    "            self.__balance += amount\n",
    "            print(f\"Deposited ₹{amount}\")\n",
    "        else:\n",
    "            print(\"Deposit amount must be positive.\")\n",
    "\n",
    "    def withdraw(self, amount):\n",
    "        if 0 < amount <= self.__balance:\n",
    "            self.__balance -= amount\n",
    "            print(f\"Withdrew ₹{amount}\")\n",
    "        else:\n",
    "            print(\"Insufficient balance or invalid amount.\")\n",
    "\n",
    "    def check_balance(self):\n",
    "        print(f\"Current Balance: ₹{self.__balance}\")\n",
    "acc = BankAccount(1000)\n",
    "acc.check_balance()\n",
    "acc.deposit(500)\n",
    "acc.withdraw(300)\n",
    "acc.check_balance()"
   ]
  },
  {
   "cell_type": "code",
   "execution_count": 15,
   "id": "1d0a50ea-6436-4e50-8d82-b97cda01b591",
   "metadata": {},
   "outputs": [
    {
     "name": "stdout",
     "output_type": "stream",
     "text": [
      "Strumming the guitar strings.\n",
      "Playing the piano keys.\n"
     ]
    }
   ],
   "source": [
    "#6\n",
    "class Instrument:\n",
    "    def play(self):\n",
    "        print(\"An instrument is being played.\")\n",
    "\n",
    "class Guitar(Instrument):\n",
    "    def play(self):\n",
    "        print(\"Strumming the guitar strings.\")\n",
    "class Piano(Instrument):\n",
    "    def play(self):\n",
    "        print(\"Playing the piano keys.\")\n",
    "\n",
    "instruments = [Guitar(), Piano()]\n",
    "\n",
    "for instrument in instruments:\n",
    "    instrument.play()"
   ]
  },
  {
   "cell_type": "code",
   "execution_count": 16,
   "id": "c3173f81-63d7-4ff3-b7ba-17822b8b528f",
   "metadata": {},
   "outputs": [
    {
     "name": "stdout",
     "output_type": "stream",
     "text": [
      "Sum: 15\n",
      "Difference: 5\n"
     ]
    }
   ],
   "source": [
    "\n",
    "#7\n",
    "class MathOperations:\n",
    "    @classmethod\n",
    "    def add__numbers(cls, a, b):\n",
    "        return a + b\n",
    "    @staticmethod\n",
    "    def subtract__numbers(a, b):\n",
    "        return a - b\n",
    "sum_result = MathOperations.add__numbers(10, 5)\n",
    "print(\"Sum:\", sum_result)\n",
    "\n",
    "diff_result = MathOperations.subtract__numbers(10, 5)\n",
    "print(\"Difference:\", diff_result)"
   ]
  },
  {
   "cell_type": "code",
   "execution_count": 19,
   "id": "40b9d70d-6e64-478f-a4ee-de6b8e8c6dc8",
   "metadata": {},
   "outputs": [
    {
     "name": "stdout",
     "output_type": "stream",
     "text": [
      "Total number of persons created: 4\n"
     ]
    }
   ],
   "source": [
    "#8\n",
    "class Person:\n",
    "    count = 0\n",
    "\n",
    "    def __init__(self, name):\n",
    "        self.name = name\n",
    "        Person.count += 1  \n",
    "\n",
    "    @classmethod\n",
    "    def total_persons(cls):\n",
    "        print(f\"Total number of persons created: {cls.count}\")\n",
    "p1 = Person(\"twisha\")\n",
    "p2 = Person(\"riya\")\n",
    "p3 = Person(\"dishan\")\n",
    "p4 = Person(\"jai\")\n",
    "\n",
    "\n",
    "Person.total_persons()"
   ]
  },
  {
   "cell_type": "code",
   "execution_count": 20,
   "id": "4eed7b54-497c-4d85-b644-45ecda7651b1",
   "metadata": {},
   "outputs": [
    {
     "name": "stdout",
     "output_type": "stream",
     "text": [
      "7/4\n"
     ]
    }
   ],
   "source": [
    "#9\n",
    "class Fraction:\n",
    "    def __init__(self, numerator, denominator):\n",
    "        self.numerator = numerator\n",
    "        self.denominator = denominator\n",
    "\n",
    "    def __str__(self):\n",
    "        return f\"{self.numerator}/{self.denominator}\"\n",
    "\n",
    "f = Fraction(7, 4)\n",
    "print(f)"
   ]
  },
  {
   "cell_type": "code",
   "execution_count": 21,
   "id": "64d60013-3d8e-4a40-aca7-e09766ca6ee0",
   "metadata": {},
   "outputs": [
    {
     "name": "stdout",
     "output_type": "stream",
     "text": [
      "(11, 12)\n"
     ]
    }
   ],
   "source": [
    "#10\n",
    "class Vector:\n",
    "    def __init__(self, x, y):\n",
    "        self.x = x\n",
    "        self.y = y\n",
    "\n",
    "    def __add__(self, other):\n",
    "        return Vector(self.x + other.x, self.y + other.y)\n",
    "\n",
    "    def __str__(self):\n",
    "        return f\"({self.x}, {self.y})\"\n",
    "\n",
    "v1 = Vector(2, 7)\n",
    "v2 = Vector(9, 5)\n",
    "v3 = v1 + v2\n",
    "\n",
    "print(v3)"
   ]
  },
  {
   "cell_type": "code",
   "execution_count": 22,
   "id": "ef589290-b318-4cf5-b0e4-6f57e487fffe",
   "metadata": {},
   "outputs": [
    {
     "name": "stdout",
     "output_type": "stream",
     "text": [
      "Hello, my name is Twisha. I am 16 years old.\n"
     ]
    }
   ],
   "source": [
    "#11\n",
    "class Person:\n",
    "    def __init__(self, name, age):\n",
    "        self.name = name\n",
    "        self.age = age\n",
    "\n",
    "    def Greet(self):\n",
    "        print(f\"Hello, my name is {self.name}. I am {self.age} years old.\")\n",
    "\n",
    "p = Person(\"Twisha\", 16)\n",
    "p.Greet()"
   ]
  },
  {
   "cell_type": "code",
   "execution_count": 23,
   "id": "ba32f561-19f1-4598-b125-52d02a1f465d",
   "metadata": {},
   "outputs": [
    {
     "name": "stdout",
     "output_type": "stream",
     "text": [
      "90.0\n"
     ]
    }
   ],
   "source": [
    "#12\n",
    "class Children:\n",
    "    def __init__(self, name, grades):\n",
    "        self.name = name\n",
    "        self.grades = grades\n",
    "\n",
    "    def Average_Grade(self):\n",
    "        return sum(self.grades) / len(self.grades)\n",
    "\n",
    "c = Children(\"Twisha\", [85, 90, 95])\n",
    "print(c.Average_Grade())"
   ]
  },
  {
   "cell_type": "code",
   "execution_count": 24,
   "id": "f36e97f7-7023-4f06-9747-e761c9b3d9c8",
   "metadata": {},
   "outputs": [
    {
     "name": "stdout",
     "output_type": "stream",
     "text": [
      "24\n"
     ]
    }
   ],
   "source": [
    "#13\n",
    "class Rectangle:\n",
    "    def set__dimensions(self, length, width):\n",
    "        self.length = length\n",
    "        self.width = width\n",
    "\n",
    "    def area(self):\n",
    "        return self.length * self.width\n",
    "\n",
    "r = Rectangle()\n",
    "r.set__dimensions(8, 3)\n",
    "print(r.area())"
   ]
  },
  {
   "cell_type": "code",
   "execution_count": 25,
   "id": "83dd80cc-5b2a-4486-a752-5cdb4ae8d466",
   "metadata": {},
   "outputs": [
    {
     "name": "stdout",
     "output_type": "stream",
     "text": [
      "4000\n",
      "6000\n"
     ]
    }
   ],
   "source": [
    "#14\n",
    "class Employment:\n",
    "    def __init__(self, hours_worked, hourly_rate):\n",
    "        self.hours_worked = hours_worked\n",
    "        self.hourly_rate = hourly_rate\n",
    "\n",
    "    def calculate_Salary(self):\n",
    "        return self.hours_worked * self.hourly_rate\n",
    "\n",
    "class Manager(Employment):\n",
    "    def __init__(self, hours_worked, hourly_rate, bonus):\n",
    "        super().__init__(hours_worked, hourly_rate)\n",
    "        self.bonus = bonus\n",
    "\n",
    "    def calculate_Salary(self):\n",
    "        return super().calculate_Salary() + self.bonus\n",
    "\n",
    "e = Employment(40, 100)\n",
    "print(e.calculate_Salary())\n",
    "\n",
    "m = Manager(40, 100, 2000)\n",
    "print(m.calculate_Salary())"
   ]
  },
  {
   "cell_type": "code",
   "execution_count": 26,
   "id": "6c8fcee9-997c-4328-94b1-568a10773208",
   "metadata": {},
   "outputs": [
    {
     "name": "stdout",
     "output_type": "stream",
     "text": [
      "200\n"
     ]
    }
   ],
   "source": [
    "#15\n",
    "class Product:\n",
    "    def __init__(self, name, price, quantity):\n",
    "        self.name = name\n",
    "        self.price = price\n",
    "        self.quantity = quantity\n",
    "\n",
    "    def Total__Price(self):\n",
    "        return self.price * self.quantity\n",
    "\n",
    "p = Product(\"Notebook\", 50, 4)\n",
    "print(p.Total__Price())"
   ]
  },
  {
   "cell_type": "code",
   "execution_count": 27,
   "id": "319778bf-462d-4ff3-ab05-88a53e763cb0",
   "metadata": {},
   "outputs": [
    {
     "name": "stdout",
     "output_type": "stream",
     "text": [
      "Moo\n",
      "Baa\n"
     ]
    }
   ],
   "source": [
    "#16\n",
    "from abc import ABC, abstractmethod\n",
    "\n",
    "class Animal(ABC):\n",
    "    @abstractmethod\n",
    "    def Sound(self):\n",
    "        pass\n",
    "\n",
    "class Cow(Animal):\n",
    "    def Sound(self):\n",
    "        print(\"Moo\")\n",
    "\n",
    "class Sheep(Animal):\n",
    "    def Sound(self):\n",
    "        print(\"Baa\")\n",
    "\n",
    "c = Cow()\n",
    "c.Sound()\n",
    "\n",
    "s = Sheep()\n",
    "s.Sound()"
   ]
  },
  {
   "cell_type": "code",
   "execution_count": 28,
   "id": "3d3668d6-8623-49e0-b402-ecb0ae526bbc",
   "metadata": {},
   "outputs": [
    {
     "name": "stdout",
     "output_type": "stream",
     "text": [
      "Title: harry potter, Author: jk rowling, Year Published: 1990\n"
     ]
    }
   ],
   "source": [
    "#17\n",
    "class Book:\n",
    "    def __init__(self, title, author, year_published):\n",
    "        self.title = title\n",
    "        self.author = author\n",
    "        self.year_published = year_published\n",
    "\n",
    "    def get_book_info(self):\n",
    "        return f\"Title: {self.title}, Author: {self.author}, Year Published: {self.year_published}\"\n",
    "\n",
    "b = Book(\"harry potter\", \"jk rowling\", 1990)\n",
    "print(b.get_book_info())"
   ]
  },
  {
   "cell_type": "code",
   "execution_count": 30,
   "id": "8c3b199e-a5e3-400c-9b7f-6d2fa4e103be",
   "metadata": {},
   "outputs": [
    {
     "name": "stdout",
     "output_type": "stream",
     "text": [
      "123 Dream Street\n",
      "5000000\n",
      "12\n"
     ]
    }
   ],
   "source": [
    "#18\n",
    "class House:\n",
    "    def __init__(self, address, price):\n",
    "        self.address = address\n",
    "        self.price = price\n",
    "\n",
    "class Mansion(House):\n",
    "    def __init__(self, address, price, number_of_rooms):\n",
    "        super().__init__(address, price)\n",
    "        self.number_of_rooms = number_of_rooms\n",
    "\n",
    "h = Mansion(\"123 Dream Street\", 5000000, 12)\n",
    "print(h.address)\n",
    "print(h.price)\n",
    "print(h.number_of_rooms)"
   ]
  },
  {
   "cell_type": "code",
   "execution_count": null,
   "id": "6ec8958f-0f0f-4625-b73a-c69612d35bcb",
   "metadata": {},
   "outputs": [],
   "source": [
    "#PYTHON OOPS QUESTIONS\n",
    "\n",
    "# 1. OOP is a programming approach that models programs using classes and objects. It organizes code by bundling data (attributes) and behavior (methods) into objects.\n",
    "\n",
    "# 2. A class is a blueprint for creating objects. It defines attributes and methods common to all objects of that type.\n",
    "\n",
    "# 3. An object is an instance of a class. It represents a real-world entity and has its own data and behavior.\n",
    "\n",
    "# 4. Abstraction hides complex implementation details and shows only the necessary parts. Encapsulation binds data and methods into a single unit and restricts access to some components.\n",
    "\n",
    "# 5. Dunder (double underscore) methods like __init__, __str__, and __add__ are special methods in Python used to define behavior for built-in operations.\n",
    "\n",
    "# 6. Inheritance allows one class to derive properties and methods from another class, promoting code reuse.\n",
    "\n",
    "# 7. Polymorphism means the same method or operation can behave differently depending on the object or data type.\n",
    "\n",
    "# 8. Encapsulation is achieved by making attributes private (using __) and accessing them via getter and setter methods.\n",
    "\n",
    "# 9. A constructor is a special method named __init__ that is automatically called when an object is created. It initializes the object.\n",
    "\n",
    "# 10. Class methods use the @classmethod decorator and access class-level data using 'cls'. Static methods use the @staticmethod decorator and don’t access class or instance data.\n",
    "\n",
    "# 11. Python doesn’t support traditional method overloading. Instead, it uses default parameters or *args to achieve similar behavior.\n",
    "\n",
    "# 12. Method overriding allows a subclass to provide a specific implementation of a method already defined in the parent class.\n",
    "\n",
    "# 13. The @property decorator is used to define a method that can be accessed like an attribute, commonly used for getter methods.\n",
    "\n",
    "# 14. Polymorphism increases flexibility and reusability, allowing functions to work with objects of different types seamlessly.\n",
    "\n",
    "# 15. An abstract class is a class that cannot be instantiated and may contain abstract methods. It is defined using the abc module.\n",
    "\n",
    "# 16. - Code reusability through inheritance  \n",
    "#     - Better organization using encapsulation  \n",
    "#     - Flexibility via polymorphism  \n",
    "#     - Easier debugging and maintenance  \n",
    "#     - Real-world modeling\n",
    "\n",
    "# 17. Class variables are shared across all instances. Instance variables are unique to each object.\n",
    "\n",
    "# 18. Multiple inheritance allows a class to inherit from more than one base class. Python supports it using: class C(A, B): pass\n",
    "\n",
    "# 19. The purpose of '__str__' is to define a human-readable string representation of an object.\n",
    "# The purpose of '__repr__' is to define an official string representation used for debugging and development.\n",
    "\n",
    "# 20. The 'super()' function is used to call a method from the parent class. It is commonly used in constructors to initialize inherited attributes.\n",
    "\n",
    "# 21. The '__del__' method is a destructor that is automatically called when an object is deleted or destroyed to perform cleanup actions.\n",
    "\n",
    "# 22. '@staticmethod' defines a method that does not access class or instance variables.\n",
    "# '@classmethod' defines a method that accesses class variables and takes 'cls' as the first argument.\n",
    "\n",
    "# 23. Polymorphism in Python OOP allows different classes to implement the same method name with different behaviors.\n",
    "# It works with inheritance when a subclass overrides a method from the parent class.\n",
    "\n",
    "# 24. Method chaining in Python OOP refers to calling multiple methods on the same object in a single line by returning 'self' at the end of each method.\n",
    "\n",
    "# 25. The '__call__' method allows an object to be called as if it were a function. It enables function-like behavior for class instances."
   ]
  }
 ],
 "metadata": {
  "kernelspec": {
   "display_name": "Python 3 (ipykernel)",
   "language": "python",
   "name": "python3"
  },
  "language_info": {
   "codemirror_mode": {
    "name": "ipython",
    "version": 3
   },
   "file_extension": ".py",
   "mimetype": "text/x-python",
   "name": "python",
   "nbconvert_exporter": "python",
   "pygments_lexer": "ipython3",
   "version": "3.13.5"
  }
 },
 "nbformat": 4,
 "nbformat_minor": 5
}
